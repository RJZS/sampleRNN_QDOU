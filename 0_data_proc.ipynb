{
 "cells": [
  {
   "cell_type": "code",
   "execution_count": 1,
   "metadata": {
    "collapsed": true
   },
   "outputs": [],
   "source": [
    "import numpy\n",
    "np = numpy\n",
    "\n",
    "dirFile = 'sampleRNN_speech/uncon/datasets/speech/speech_train.npy'\n",
    "train = np.load(dirFile)\n",
    "\n",
    "dirFile = 'sampleRNN_speech/uncon/datasets/speech/speech_test.npy'\n",
    "test = np.load(dirFile)\n",
    "\n",
    "dirFile = 'sampleRNN_speech/uncon/datasets/speech/speech_valid.npy'\n",
    "valid = np.load(dirFile)"
   ]
  },
  {
   "cell_type": "code",
   "execution_count": 2,
   "metadata": {},
   "outputs": [
    {
     "name": "stdout",
     "output_type": "stream",
     "text": [
      "(737, 128000)\n",
      "(64, 128000)\n",
      "(64, 128000)\n"
     ]
    }
   ],
   "source": [
    "print(train.shape)\n",
    "print(test.shape)\n",
    "print(valid.shape)"
   ]
  },
  {
   "cell_type": "code",
   "execution_count": null,
   "metadata": {
    "collapsed": true
   },
   "outputs": [],
   "source": []
  }
 ],
 "metadata": {
  "kernelspec": {
   "display_name": "Python 2",
   "language": "python",
   "name": "python2"
  },
  "language_info": {
   "codemirror_mode": {
    "name": "ipython",
    "version": 2
   },
   "file_extension": ".py",
   "mimetype": "text/x-python",
   "name": "python",
   "nbconvert_exporter": "python",
   "pygments_lexer": "ipython2",
   "version": "2.7.13"
  }
 },
 "nbformat": 4,
 "nbformat_minor": 2
}
